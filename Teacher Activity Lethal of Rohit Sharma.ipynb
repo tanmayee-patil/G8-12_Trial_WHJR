{
 "cells": [
  {
   "cell_type": "markdown",
   "metadata": {},
   "source": [
    "# DATA ANALYSIS and VISUALIZATION\n",
    "\n",
    "### Data\n",
    "\n",
    "_What is **Data**?_<br>\n",
    "**Data** is hard facts. These are units of information, often numeric, that are collected through observation.\n",
    "\n",
    "The \"data gets broadly divided into 2 kinds:\n",
    "1. Qualitative or Categorical data\n",
    "2. Quantitative or Numerical data\n",
    "\n",
    "**Categorical data** comprises categories like *overweight*, *underweight*, or *normal* on a BMI scale as categories.<br>\n",
    "Similarly, it could be the flavor of ice cream. Categories could be *mango*, *vanilla*, *chocolate*, *pineapple*, *orange*, etc\n",
    "\n",
    "**Numerical data** on the other hand is your numeric data like your actual *weight*, *height*, volume of your *ice cream* etc."
   ]
  },
  {
   "cell_type": "markdown",
   "metadata": {},
   "source": [
    "### Data Analysis\n",
    "\n",
    "_What is **Data Analysis**?_<br>\n",
    "**Data Analysis** is the process of evaluating data by applying statistical and/or logical techniques.\n",
    "*Data Analysis* involves:\n",
    "1. Performing *data cleaning/data wrangling* to improve data quality.\n",
    "2. Getting data into the right format, getting rid of unnecessary data, correcting spelling mistakes, etc.\n",
    "3. *Manipulating* data using tools like Excel or Python etc. This may include plotting the data out, creating pivot tables, and so on.\n",
    "4. *Analyzing* and *interpreting* the data using statistical tools (i.e. finding correlations, trends, outliers, etc.).\n",
    "\n",
    "### Data Visualization\n",
    "\n",
    "_What is **Data Visualization**?_<br>\n",
    "**Data Visualization** is the representation of data or information in a graph, chart, or other visual formats.\n",
    "Understanding of data in the raw form or tables would consume a lot of time and effort of stakeholders, readers, users. Above that it would be extremely hard to interpret the main message in that form.\n",
    "\n",
    "Instead, if we choose a graphical representation, we would use charts and graphs and infographics to express those messages, trends.\n",
    "we are easily attracted towards graphic representation of the table. On top of that it is easy to interpret as well."
   ]
  },
  {
   "cell_type": "markdown",
   "metadata": {},
   "source": [
    "___\n"
   ]
  },
  {
   "cell_type": "markdown",
   "metadata": {},
   "source": [
    "## Teacher's Activity: Understanding the lethal of Rohit Sharma\n",
    "\n",
    "### We will understand how productive or vulnerable was Rohit Gurunath Sharma on each ball of the over from a given dataset.\n",
    "\n",
    "#### Understanding the Dataset\n",
    "\n",
    "Dataset consists of 3 columns or `features` namely `ball`, `batsman_runs` and `player_dismissed`.\n",
    "1. `ball` represents the ball of the over.\n",
    "2. `batsman_runs` accounts for the runs attributed to batsman for that particular ball.\n",
    "3. `player_dismissed` provides the name of player who was dismissed on a particular ball.\n",
    "\n",
    "\n",
    "#### Understanding the Approach\n",
    "\n",
    "1. Understanding the most vulnerable ball for Rohit Sharma: Here, we will take into account the number of times the player himself was dismissed on any given ball of the over. The columns we will use are: <br>\n",
    "    1. `player_dismissed` with entries specific to `RG Sharma`.\n",
    "    2. `ball`.\n",
    "    \n",
    "    _We will `group` the data on `ball` of the over and plot a `bar` graph to interpret the most number of dismissals for a particular ball of over_\n",
    "    \n",
    "    \n",
    "2. Understanding the most productive ball for Rohit Sharma: Here, we will take into account total runs the player has scored was on any given ball of the over. The columns we will use are: <br>\n",
    "    1. `batsman_runs`.\n",
    "    2. `ball`.\n",
    "    \n",
    "    _We will `group` the data on `ball` of the over and plot a `bar` graph to interpret the most runs scored on a particular ball of over_"
   ]
  },
  {
   "cell_type": "markdown",
   "metadata": {},
   "source": [
    "#### Importing Packages\n",
    "\n",
    "Packages are imported in following manner.<br>\n",
    "```Python\n",
    "import package_name\n",
    "```\n",
    "\n",
    "In the next cell we have imported the following packages.\n",
    "1. `pandas`. It is the most common library used by data scientists for data manipulation and cleaning\n",
    "2. `numpy`. It adds support for arrays, along with a collection of mathematical functions to operate on these arrays.\n",
    "3. `matplotlib`. It is a plotting library for python. `.pyplot` is a sub-package or set of functions available in matplotlib which we'll be using\n",
    "\n",
    "`pd`,`np`,`plt` are all `aliases` for their corresponding packages.\n",
    "`Alias` are second name assigned to values or variables.\n",
    "\n",
    "`%matplotlib inline` is a \"magic function\" renders plots"
   ]
  },
  {
   "cell_type": "code",
   "execution_count": 1,
   "metadata": {},
   "outputs": [],
   "source": [
    "import pandas as pd\n",
    "import numpy as np\n",
    "import matplotlib.pyplot as plt\n",
    "import seaborn as sns\n",
    "%matplotlib inline"
   ]
  },
  {
   "cell_type": "markdown",
   "metadata": {},
   "source": [
    "#### Loading the Dataset\n",
    "\n",
    "In the cell below, we have created a new pandas DataFrame by the name `df` and imported the mentioned file. <br>\n",
    "We have used `.head()` function to see the first 5 values of the dataset we created.\n",
    "\n",
    "`.head()` can show up any number of values based on the parameter given. <br>\n",
    "If we want to see more, we can pass value in the function like `df.head(10)` will show first 10 values of the dataset"
   ]
  },
  {
   "cell_type": "code",
   "execution_count": 2,
   "metadata": {},
   "outputs": [
    {
     "data": {
      "text/html": [
       "<div>\n",
       "<style scoped>\n",
       "    .dataframe tbody tr th:only-of-type {\n",
       "        vertical-align: middle;\n",
       "    }\n",
       "\n",
       "    .dataframe tbody tr th {\n",
       "        vertical-align: top;\n",
       "    }\n",
       "\n",
       "    .dataframe thead th {\n",
       "        text-align: right;\n",
       "    }\n",
       "</style>\n",
       "<table border=\"1\" class=\"dataframe\">\n",
       "  <thead>\n",
       "    <tr style=\"text-align: right;\">\n",
       "      <th></th>\n",
       "      <th>ball</th>\n",
       "      <th>batsman_runs</th>\n",
       "      <th>player_dismissed</th>\n",
       "    </tr>\n",
       "  </thead>\n",
       "  <tbody>\n",
       "    <tr>\n",
       "      <th>0</th>\n",
       "      <td>2</td>\n",
       "      <td>0</td>\n",
       "      <td>NaN</td>\n",
       "    </tr>\n",
       "    <tr>\n",
       "      <th>1</th>\n",
       "      <td>3</td>\n",
       "      <td>0</td>\n",
       "      <td>NaN</td>\n",
       "    </tr>\n",
       "    <tr>\n",
       "      <th>2</th>\n",
       "      <td>4</td>\n",
       "      <td>0</td>\n",
       "      <td>RG Sharma</td>\n",
       "    </tr>\n",
       "    <tr>\n",
       "      <th>3</th>\n",
       "      <td>3</td>\n",
       "      <td>1</td>\n",
       "      <td>NaN</td>\n",
       "    </tr>\n",
       "    <tr>\n",
       "      <th>4</th>\n",
       "      <td>5</td>\n",
       "      <td>1</td>\n",
       "      <td>NaN</td>\n",
       "    </tr>\n",
       "  </tbody>\n",
       "</table>\n",
       "</div>"
      ],
      "text/plain": [
       "   ball  batsman_runs player_dismissed\n",
       "0     2             0              NaN\n",
       "1     3             0              NaN\n",
       "2     4             0        RG Sharma\n",
       "3     3             1              NaN\n",
       "4     5             1              NaN"
      ]
     },
     "execution_count": 2,
     "metadata": {},
     "output_type": "execute_result"
    }
   ],
   "source": [
    "df = pd.read_csv(\"Rohit_truncated_ball_by_ball.csv\")\n",
    "df.head()"
   ]
  },
  {
   "cell_type": "markdown",
   "metadata": {},
   "source": [
    "### 1. Understanding the most vulnerable ball for Rohit Sharma"
   ]
  },
  {
   "cell_type": "markdown",
   "metadata": {},
   "source": [
    "#### Reducing the dataset to our need\n",
    "\n",
    "In the cell below, we have created a new pandas DataFrame by the name `df_Rohit` and assigned it a filtered version of dataframe `df` such that only those observations are accepted which have `player_dismissed` value as `RG Sharma`. This can be done like:\n",
    "```Python\n",
    "df[df[\"player_dismissed\"] == \"RG Sharma\"]\n",
    "```\n",
    "Here, `df[\"player_dismissed\"] == \"RG Sharma\"`, this value will mark observation True wherever it is.\n",
    "Passing that value through `df[]` will filter out the `False` values.\n",
    "\n",
    "Then, we have grouped data using `.grouby()` function using various values of `ball` feature/column. The `groupby()` function is then followed by `.count()` to summarize values for other numerical columns in the dataframe. The resulting dataframe is then assigned to dataframe `df_Rohit_dismissed`."
   ]
  },
  {
   "cell_type": "code",
   "execution_count": 3,
   "metadata": {},
   "outputs": [],
   "source": [
    "df_Rohit = df[df[\"player_dismissed\"] == \"RG Sharma\"]\n",
    "df_Rohit_dismissed = df_Rohit.groupby(\"ball\").count()"
   ]
  },
  {
   "cell_type": "markdown",
   "metadata": {},
   "source": [
    "#### Plotting of information\n",
    "\n",
    "`plt.title()` provides the graph or chart with a title. The title we have used is \"Number of times player was dismissed on each ball of over\".<br>\n",
    "`plt.bar()` function is used to plot bar chart. We have plotted bar chart for `df_Rohit_dismissed` dataframe's index value which are, infact, each ball of the over as categories or x-axis of the chart and the dismissals of Rohit Sharma as y-axis.<br>\n",
    "`plt.show()` function combines all the elements of charts and shows them in harmony."
   ]
  },
  {
   "cell_type": "code",
   "execution_count": 4,
   "metadata": {},
   "outputs": [
    {
     "data": {
      "image/png": "[encoded data removed]",
      "text/plain": [
       "<Figure size 432x288 with 1 Axes>"
      ]
     },
     "metadata": {
      "needs_background": "light"
     },
     "output_type": "display_data"
    }
   ],
   "source": [
    "plt.title(\"Number of times player was dismissed on each ball of over\")\n",
    "plt.bar(df_Rohit_dismissed.index, df_Rohit_dismissed[\"player_dismissed\"])\n",
    "plt.show()"
   ]
  },
  {
   "cell_type": "markdown",
   "metadata": {},
   "source": [
    "### 2. Understanding the most productive ball for Rohit Sharma"
   ]
  },
  {
   "cell_type": "markdown",
   "metadata": {},
   "source": [
    "#### Grouping of data\n",
    "\n",
    "we have grouped data using `.grouby()` function using various values of `ball` feature/column. The `groupby()` function is then followed by `.sum()` to summarize values for other numerical columns in the dataframe. The resulting dataframe is then assigned to dataframe `df_runs_per_ball`."
   ]
  },
  {
   "cell_type": "code",
   "execution_count": 5,
   "metadata": {},
   "outputs": [],
   "source": [
    "df_runs_per_ball = df.groupby(\"ball\").sum()"
   ]
  },
  {
   "cell_type": "markdown",
   "metadata": {},
   "source": [
    "#### Plotting of information\n",
    "\n",
    "`plt.title()` provides the graph or chart with a title.<br>\n",
    "`plt.bar()` function is used to plot bar chart. We have plotted bar chart for `df_runs_per_ball` dataframe's index value which are, infact, each ball of the over as categories or x-axis of the chart and the runs scored by Rohit Sharma as y-axis.<br>\n",
    "`plt.show()` function combines all the elements of charts and shows them in harmony."
   ]
  },
  {
   "cell_type": "code",
   "execution_count": 6,
   "metadata": {},
   "outputs": [
    {
     "data": {
      "image/png": "[encoded data removed]",
      "text/plain": [
       "<Figure size 432x288 with 1 Axes>"
      ]
     },
     "metadata": {
      "needs_background": "light"
     },
     "output_type": "display_data"
    }
   ],
   "source": [
    "plt.title(\"Runs scored for each ball of over\")\n",
    "plt.bar(df_runs_per_ball.index, df_runs_per_ball[\"batsman_runs\"])\n",
    "plt.show()"
   ]
  },
  {
   "cell_type": "code",
   "execution_count": null,
   "metadata": {},
   "outputs": [],
   "source": []
  }
 ],
 "metadata": {
  "kernelspec": {
   "display_name": "Python 3",
   "language": "python",
   "name": "python3"
  },
  "language_info": {
   "codemirror_mode": {
    "name": "ipython",
    "version": 3
   },
   "file_extension": ".py",
   "mimetype": "text/x-python",
   "name": "python",
   "nbconvert_exporter": "python",
   "pygments_lexer": "ipython3",
   "version": "3.8.5"
  }
 },
 "nbformat": 4,
 "nbformat_minor": 4
}
