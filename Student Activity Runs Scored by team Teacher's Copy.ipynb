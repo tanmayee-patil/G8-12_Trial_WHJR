{
 "cells": [
  {
   "cell_type": "markdown",
   "metadata": {},
   "source": [
    "## Student's Activity Teacher's Copy: Runs by IPL teams in the tournament till 2020\n",
    "\n",
    "#### Understanding the Dataset\n",
    "\n",
    "Dataset consists of 2 columns or `features` namely `batting_team` and `total_runs`.\n",
    "1. `batting_team` represents the team which was batting.\n",
    "2. `total_runs` accounts for the runs attributed to the team for a particular ball."
   ]
  },
  {
   "cell_type": "markdown",
   "metadata": {},
   "source": [
    "#### Importing Packages\n",
    "\n",
    "Packages are imported in following manner.<br>\n",
    "```Python\n",
    "import package_name\n",
    "```\n",
    "\n",
    "In the next cell, we have imported the following packages.\n",
    "1. `pandas`. It is the most common library used by data scientists for data manipulation and cleaning\n",
    "2. `numpy`. It adds support for arrays, along with a collection of mathematical functions to operate on these arrays.\n",
    "3. `matplotlib`. It is a plotting library for python. `.pyplot` is a sub-package or set of functions available in matplotlib which we'll be using\n",
    "\n",
    "`pd`,`np`,`plt` are all `aliases` for their corresponding packages.\n",
    "`Alias` are second name assigned to values or variables.\n",
    "\n",
    "`%matplotlib inline` is a \"magic function\" renders plots"
   ]
  },
  {
   "cell_type": "code",
   "execution_count": 1,
   "metadata": {},
   "outputs": [],
   "source": [
    "import pandas as pd\n",
    "import numpy as np\n",
    "import matplotlib.pyplot as plt\n",
    "import seaborn as sns\n",
    "%matplotlib inline"
   ]
  },
  {
   "cell_type": "markdown",
   "metadata": {},
   "source": [
    "#### Loading the Dataset\n",
    "\n",
    "In the cell below, we have created a new pandas DataFrame by the name `df` and imported the mentioned file. <br>\n",
    "We have used `.head()` function to see the first 5 values of the dataset we created.\n",
    "\n",
    "`.head()` can show up any number of values based on the parameter given. <br>\n",
    "If we want to see more, we can pass value in the function like `df.head(10)` will show first 10 values of the dataset"
   ]
  },
  {
   "cell_type": "code",
   "execution_count": 49,
   "metadata": {},
   "outputs": [
    {
     "data": {
      "text/html": [
       "<div>\n",
       "<style scoped>\n",
       "    .dataframe tbody tr th:only-of-type {\n",
       "        vertical-align: middle;\n",
       "    }\n",
       "\n",
       "    .dataframe tbody tr th {\n",
       "        vertical-align: top;\n",
       "    }\n",
       "\n",
       "    .dataframe thead th {\n",
       "        text-align: right;\n",
       "    }\n",
       "</style>\n",
       "<table border=\"1\" class=\"dataframe\">\n",
       "  <thead>\n",
       "    <tr style=\"text-align: right;\">\n",
       "      <th></th>\n",
       "      <th>batting_team</th>\n",
       "      <th>total_runs</th>\n",
       "    </tr>\n",
       "  </thead>\n",
       "  <tbody>\n",
       "    <tr>\n",
       "      <th>0</th>\n",
       "      <td>Kolkata Knight Riders</td>\n",
       "      <td>1</td>\n",
       "    </tr>\n",
       "    <tr>\n",
       "      <th>1</th>\n",
       "      <td>Kolkata Knight Riders</td>\n",
       "      <td>1</td>\n",
       "    </tr>\n",
       "    <tr>\n",
       "      <th>2</th>\n",
       "      <td>Kolkata Knight Riders</td>\n",
       "      <td>0</td>\n",
       "    </tr>\n",
       "    <tr>\n",
       "      <th>3</th>\n",
       "      <td>Kolkata Knight Riders</td>\n",
       "      <td>1</td>\n",
       "    </tr>\n",
       "    <tr>\n",
       "      <th>4</th>\n",
       "      <td>Kolkata Knight Riders</td>\n",
       "      <td>1</td>\n",
       "    </tr>\n",
       "  </tbody>\n",
       "</table>\n",
       "</div>"
      ],
      "text/plain": [
       "            batting_team  total_runs\n",
       "0  Kolkata Knight Riders           1\n",
       "1  Kolkata Knight Riders           1\n",
       "2  Kolkata Knight Riders           0\n",
       "3  Kolkata Knight Riders           1\n",
       "4  Kolkata Knight Riders           1"
      ]
     },
     "execution_count": 49,
     "metadata": {},
     "output_type": "execute_result"
    }
   ],
   "source": [
    "df = pd.read_csv(\"runs_by_team_ball_by_ball.csv\")\n",
    "df.head()"
   ]
  },
  {
   "cell_type": "markdown",
   "metadata": {},
   "source": [
    "#### Grouping of data\n",
    "\n",
    "we have grouped data using `.grouby()` function using various values of `batting_team` feature/column. The `groupby()` function is then followed by `.sum()` to summarize values for other numerical columns in the dataframe. The resulting dataframe is then assigned to dataframe `df_teams_total_runs`."
   ]
  },
  {
   "cell_type": "code",
   "execution_count": 50,
   "metadata": {},
   "outputs": [],
   "source": [
    "df_team_total_runs = df.groupby(\"batting_team\").sum()"
   ]
  },
  {
   "cell_type": "markdown",
   "metadata": {},
   "source": [
    "#### Reducing the dataset to our need\n",
    "\n",
    "In the cell below, we have created a new pandas DataFrame by the name `df_team_GT10K` and assigned it a filtered version of dataframe `df_team_total_runs` such that only those observations are accepted which have `total_runs` value more than `10000`. This can be done like:\n",
    "```Python\n",
    "df_team_total_runs[df_team_total_runs[\"total_runs\"]>10000]\n",
    "```"
   ]
  },
  {
   "cell_type": "code",
   "execution_count": 51,
   "metadata": {},
   "outputs": [],
   "source": [
    "df_team_GT10K = df_team_total_runs[df_team_total_runs[\"total_runs\"]>10000]"
   ]
  },
  {
   "cell_type": "markdown",
   "metadata": {},
   "source": [
    "#### Plotting of information\n",
    "\n",
    "`plt.figure()` is used to increase the size of the figure. The argument `figsize` take a tuple value i.e., value in a `()` such that the first value is width and second is height like `(width, height)` as shown in cell below `(20,5)`.<br>\n",
    "`plt.title()` provides the graph or chart with a title.<br>\n",
    "`plt.bar()` function is used to plot bar chart. We have plotted bar chart for `df_team_GT10K` dataframe's index value which are, infact, each team as categories or x-axis of the chart and the runs scored by them as y-axis.<br>\n",
    "`plt.show()` function combines all the elements of charts and shows them in harmony."
   ]
  },
  {
   "cell_type": "code",
   "execution_count": 55,
   "metadata": {},
   "outputs": [
    {
     "data": {
      "image/png": "[encoded data removed]",
      "text/plain": [
       "<Figure size 1440x360 with 1 Axes>"
      ]
     },
     "metadata": {
      "needs_background": "light"
     },
     "output_type": "display_data"
    }
   ],
   "source": [
    "plt.figure(figsize=(20,5))\n",
    "plt.title(\"Runs scored for each player for KKR\")\n",
    "plt.bar(df_team_GT10K.index, df_team_GT10K[\"total_runs\"])\n",
    "plt.show()"
   ]
  },
  {
   "cell_type": "code",
   "execution_count": null,
   "metadata": {},
   "outputs": [],
   "source": []
  }
 ],
 "metadata": {
  "kernelspec": {
   "display_name": "Python 3",
   "language": "python",
   "name": "python3"
  },
  "language_info": {
   "codemirror_mode": {
    "name": "ipython",
    "version": 3
   },
   "file_extension": ".py",
   "mimetype": "text/x-python",
   "name": "python",
   "nbconvert_exporter": "python",
   "pygments_lexer": "ipython3",
   "version": "3.8.5"
  }
 },
 "nbformat": 4,
 "nbformat_minor": 4
}
